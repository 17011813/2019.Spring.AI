{
  "nbformat": 4,
  "nbformat_minor": 0,
  "metadata": {
    "colab": {
      "name": "Labs_linear_regression",
      "version": "0.3.2",
      "provenance": [],
      "include_colab_link": true
    },
    "kernelspec": {
      "name": "python3",
      "display_name": "Python 3"
    }
  },
  "cells": [
    {
      "cell_type": "markdown",
      "metadata": {
        "id": "view-in-github",
        "colab_type": "text"
      },
      "source": [
        "<a href=\"https://colab.research.google.com/github/unizard/2019.Spring.AI/blob/master/Labs_linear_regression.ipynb\" target=\"_parent\"><img src=\"https://colab.research.google.com/assets/colab-badge.svg\" alt=\"Open In Colab\"/></a>"
      ]
    },
    {
      "metadata": {
        "id": "pRvvlATp7AB6",
        "colab_type": "text"
      },
      "cell_type": "markdown",
      "source": [
        "안녕하세요. 세종대학교 지능기전공학부 최유경 교수입니다.\n",
        "\n",
        "본 자료는 인공지능 실습 수업 참고자료이며,  \"Tensorflow를 이용한 선형회귀\" 입니다.\n",
        "\n",
        "수고해주실 조교님들께, 감사의 마음을 가집시다. \n",
        "\n",
        "---\n"
      ]
    },
    {
      "metadata": {
        "id": "419eeSgB1nol",
        "colab_type": "text"
      },
      "cell_type": "markdown",
      "source": [
        "# [필독] 반드시 본인의 구글 드라이브로 사본 만들어 사용하세요\n",
        "\n",
        "\n",
        "- [사본 만들어 Colab 실행하기 메뉴얼](https://www.dropbox.com/s/39wkiew6p5yqhpl/%EC%82%AC%EB%B3%B8%EB%A7%8C%EB%93%A4%EC%96%B4%20%EC%A7%84%ED%96%89%ED%95%98%EA%B8%B0_%EA%B0%80%EC%9D%B4%EB%93%9C%EB%9D%BC%EC%9D%B8.pptx?dl=0)\n",
        "  - 김지원 조교님 제공\n",
        "\n",
        "---\n",
        "\n",
        "\n",
        "\n",
        "\n",
        "\n"
      ]
    },
    {
      "metadata": {
        "id": "nBXSc40e28o5",
        "colab_type": "text"
      },
      "cell_type": "markdown",
      "source": [
        "### 텐서플로우 공부법\n",
        "\n",
        "- 메뉴얼을 참고합니다. \n",
        "  - 텐서플로우 메뉴얼 공홈: https://www.tensorflow.org/api_docs/python/tf\n",
        "  - 텐서플로우 메뉴얼 한글화 공홈: https://tensorflowkorea.gitbooks.io/tensorflow-kr/\n",
        "\n",
        "\n",
        "<br>\n",
        "\n",
        "### 파이썬 문법이 잠시 기억이??\n",
        "- 점프투파이썬 위키에서 살짝 찾아봅시다.\n",
        "  - https://wikidocs.net/book/1\n",
        "\n",
        "### 한문장으로 요약하기\n",
        "-  텐서플로우는 그래프를 만들 후 세션에서 실행시키는 구조를 가집니다.\n",
        "- 그래프는 node와 edge로 이루어져 있으며, Node는 operation 과 같은 작업과 같은 말입니다.\n",
        "- 세션을 실행하기 위해 run(), 닫기위해 close() 를 호출합니다.\n",
        "\n",
        "---\n",
        "\n",
        "### Rereference\n",
        "- 모두의 딥러닝\n",
        "- 안경잡이개발자\n",
        "- etc\n",
        "\n",
        "\n",
        "\n"
      ]
    },
    {
      "metadata": {
        "id": "fsS17HF56rMY",
        "colab_type": "text"
      },
      "cell_type": "markdown",
      "source": [
        "\n",
        "### [실습1] 텐서플로우를 이용하여 상수를 다루는 법"
      ]
    },
    {
      "metadata": {
        "id": "H4EkEXte3iJ8",
        "colab_type": "code",
        "colab": {
          "base_uri": "https://localhost:8080/",
          "height": 34
        },
        "outputId": "bb6eecd1-c7c0-49dc-cb9d-4aa65a99aa46"
      },
      "cell_type": "code",
      "source": [
        "# tensorflow라는 라이브러리를 tf 라는 이름으로 사용하기 위해 아래와 같이 import\n",
        "import tensorflow as tf\n",
        "\n",
        "# 1 이라는 원소를 가진 텐서를 만들어 a에 대입하여라\n",
        "# 텐서는 다차원 배열과 같다. \n",
        "a = tf.constant(1)\n",
        "\n",
        "# 2 라는 원소를 가진 텐서를 만들어 b에 대입하여라\n",
        "b = tf.constant(2)\n",
        "\n",
        "# a와 b를 더하여 c라는 텐서에 대입하여라\n",
        "c = tf.add(a,b)\n",
        "\n",
        "''' \n",
        "=================================\n",
        "[중요] \n",
        "텐서플로우 연산은 세션을 통해 \"연산을 수행\"시켜야 결과를 볼 수 있습니다!!!!\n",
        "=================================\n",
        "'''\n",
        "# 먼저 세션을 열고\n",
        "sess = tf.Session()\n",
        "\n",
        "# 세션을 수행합니다.\n",
        "sess.run(c)\n"
      ],
      "execution_count": 39,
      "outputs": [
        {
          "output_type": "execute_result",
          "data": {
            "text/plain": [
              "3"
            ]
          },
          "metadata": {
            "tags": []
          },
          "execution_count": 39
        }
      ]
    },
    {
      "metadata": {
        "id": "5kyMePYg9hWa",
        "colab_type": "text"
      },
      "cell_type": "markdown",
      "source": [
        "### [실습2] 텐서플로우를 이용해 변수를 다루는 법"
      ]
    },
    {
      "metadata": {
        "id": "-d5L7zv784u3",
        "colab_type": "code",
        "colab": {
          "base_uri": "https://localhost:8080/",
          "height": 51
        },
        "outputId": "522c7e11-5344-47d9-ae90-82d93813f924"
      },
      "cell_type": "code",
      "source": [
        "import tensorflow as tf\n",
        "\n",
        "# 5 라는 값의 텐서 변수를 a 에 담고\n",
        "a = tf.Variable(5)\n",
        "\n",
        "# 3 라는 값의 텐서 변수를 b 에 담고\n",
        "b = tf.Variable(3)\n",
        "\n",
        "# 텐서 a와 텐서 b의 곱을 c에 담는 연산자를 설정하고\n",
        "c = tf.multiply(a,b)\n",
        "\n",
        "# ===============\n",
        "# [중요]상수와 변수의 차이!!변수는 이부분이 핵심!!\n",
        "# ===============\n",
        "init = tf.global_variables_initializer()\n",
        "\n",
        "sess = tf.Session()\n",
        "sess.run(init)\n",
        "v = sess.run(c)\n",
        "print(v)\n",
        "\n",
        "\n",
        "\n",
        "# 변수 a 는 변경하능하다. 15로 변경해보자.\n",
        "a = tf.Variable(15)\n",
        "\n",
        "# 변수값이 변경되었으면, C도 다시 초기화 해줘야 한다.\n",
        "c = tf.multiply(a,b)\n",
        "\n",
        "# 변수값이 바뀌었으니, init도 초기화해줘야 한다.\n",
        "init = tf.global_variables_initializer()\n",
        "\n",
        "sess.run(init)\n",
        "v = sess.run(c)\n",
        "print(v)\n"
      ],
      "execution_count": 40,
      "outputs": [
        {
          "output_type": "stream",
          "text": [
            "15\n",
            "45\n"
          ],
          "name": "stdout"
        }
      ]
    },
    {
      "metadata": {
        "id": "4u3wcfi2_wMq",
        "colab_type": "text"
      },
      "cell_type": "markdown",
      "source": [
        "### [실습3] Placeholder 이해하기\n",
        "\n",
        "- Placeholder는 다른 텐서를 할당하기 위해 사용하며, 이런 과정을 feeding이라고 한다.\n",
        "\n",
        "- 텐서플로우는 그래프 형태의 표현을 활용한다.\n",
        "- 이처럼 아래의 그림에서는 입력을 담아 x가 출력을 조절하도록 할 수 있는 플레이스 홀더이다.\n",
        "![image](https://user-images.githubusercontent.com/11758940/55094840-8088b600-50fa-11e9-9e07-2df88710e04b.png)\n",
        "\n",
        "\n",
        "- tf.placeholder(dtype, shape, name)\n",
        "  - dtype: 플레이스홀더에 저장되는 자료형\n",
        "  - shape: 배열의 차원을 의미\n",
        "  - name: 플레이스 홀더의 이름을 의미"
      ]
    },
    {
      "metadata": {
        "id": "CZYo_QTL_qxh",
        "colab_type": "code",
        "colab": {
          "base_uri": "https://localhost:8080/",
          "height": 34
        },
        "outputId": "edde079b-0622-462c-f45d-885563955502"
      },
      "cell_type": "code",
      "source": [
        "# 플레이스홀더 예제 1\n",
        "import tensorflow as tf\n",
        "\n",
        "input = [1, 2, 3, 4, 5]\n",
        "x = tf.placeholder(dtype=tf.float32)\n",
        "y = x + 5\n",
        "\n",
        "sess = tf.Session()\n",
        "result = sess.run(y,feed_dict={x: input})\n",
        "\n",
        "print(result)\n",
        "\n",
        "\n"
      ],
      "execution_count": 43,
      "outputs": [
        {
          "output_type": "stream",
          "text": [
            "[ 6.  7.  8.  9. 10.]\n"
          ],
          "name": "stdout"
        }
      ]
    },
    {
      "metadata": {
        "id": "EvyNaym8DBkd",
        "colab_type": "code",
        "colab": {
          "base_uri": "https://localhost:8080/",
          "height": 34
        },
        "outputId": "9071a382-60e7-47f4-8076-3ec4d1622a71"
      },
      "cell_type": "code",
      "source": [
        "# 플레이스홀더 예제2\n",
        "import tensorflow as tf\n",
        "\n",
        "mathScore = [85, 99, 84, 97, 92]\n",
        "englishScore = [59, 80, 84, 68, 77]\n",
        "\n",
        "a = tf.placeholder(dtype=tf.float32)\n",
        "b = tf.placeholder(dtype=tf.float32)\n",
        "y = (a+b)/2\n",
        "\n",
        "sess = tf.Session()\n",
        "result = sess.run(y,feed_dict={a: mathScore, b: englishScore})\n",
        "\n",
        "print(result)\n"
      ],
      "execution_count": 44,
      "outputs": [
        {
          "output_type": "stream",
          "text": [
            "[72.  89.5 84.  82.5 84.5]\n"
          ],
          "name": "stdout"
        }
      ]
    },
    {
      "metadata": {
        "id": "Yal4c90pDGuP",
        "colab_type": "text"
      },
      "cell_type": "markdown",
      "source": [
        "### [실습4] 주요 함수 \n",
        "\n",
        "|함수이름| 기능|\n",
        "|--|--|--|\n",
        "| tf.add | 덧셈 |\n",
        "| tf.subtract | 뺄셈 |\n",
        "| tf.multiply |곱셉 |\n",
        "| tf.truediv | 나눈 몫|\n",
        "| tf.mod | 나눈 나머지|\n",
        "| tf.abs | 절대값 |"
      ]
    },
    {
      "metadata": {
        "id": "lbTKnr09DUzH",
        "colab_type": "code",
        "colab": {
          "base_uri": "https://localhost:8080/",
          "height": 34
        },
        "outputId": "0f012b97-8963-48e1-bdbb-a422fe9148b7"
      },
      "cell_type": "code",
      "source": [
        "import tensorflow as tf\n",
        "\n",
        "#\n",
        "a = tf.constant(17)\n",
        "b = tf.constant(5)\n",
        "\n",
        "'''\n",
        "주요 함수 사용하기\n",
        "'''\n",
        "sess = tf.Session()\n",
        "c = tf.add(a,b)\n",
        "v1 = sess.run(c)\n",
        "\n",
        "c = tf.subtract(a,b)\n",
        "v2 = sess.run(c)\n",
        "\n",
        "c = tf.multiply(a,b)\n",
        "v3 = sess.run(c)\n",
        "\n",
        "c = tf.truediv(a,b)\n",
        "v4 = sess.run(c)\n",
        "\n",
        "c = tf.mod(a,b)\n",
        "v5 = sess.run(c)\n",
        "\n",
        "c = -a\n",
        "v6 = sess.run(c)\n",
        "\n",
        "print(v1, v2, v3, v4, v5, v6)\n"
      ],
      "execution_count": 45,
      "outputs": [
        {
          "output_type": "stream",
          "text": [
            "22 12 85 3.4 2 -17\n"
          ],
          "name": "stdout"
        }
      ]
    },
    {
      "metadata": {
        "id": "NZQcyND_Fhzd",
        "colab_type": "text"
      },
      "cell_type": "markdown",
      "source": [
        "### [실습4-2] 주요함수\n",
        "\n",
        "함수명 | 함수기능\n",
        "--|--\n",
        "tf.negative | 음수를 반환\n",
        "tf.sign | 부호를 반환\n",
        "tf.square | 제곱을 수행\n",
        "tf.sqrt | 제곱근을 반환\n",
        "tf.pow | 거듭제곱을 수행\n",
        "tf.maximum | 더 큰 값을 반환\n",
        "tf.minimum | 더 작은 겂을 반환\n",
        "tf.exp | 지수 값을 계산\n",
        "tf.log | 로그 값을 계산"
      ]
    },
    {
      "metadata": {
        "id": "c6y2DjhUEzWl",
        "colab_type": "code",
        "colab": {
          "base_uri": "https://localhost:8080/",
          "height": 34
        },
        "outputId": "4fa6ce76-3660-4543-f89a-0f744af19cc5"
      },
      "cell_type": "code",
      "source": [
        "import tensorflow as tf\n",
        "\n",
        "\n",
        "a = tf.constant(17.5)\n",
        "b = tf.constant(5.0)\n",
        "\n",
        "c = tf.negative(a)\n",
        "v1 = sess.run(c)\n",
        "\n",
        "c = tf.sign(a)\n",
        "v2 = sess.run(c)\n",
        "\n",
        "\n",
        "c = tf.square(a)\n",
        "v3 = sess.run(c)\n",
        "\n",
        "c = tf.pow(a,2)\n",
        "v4 = sess.run(c)\n",
        "\n",
        "\n",
        "c = tf.maximum(a,b)\n",
        "v5 = sess.run(c)\n",
        "\n",
        "c = tf.minimum(a,b)\n",
        "v6 = sess.run(c)\n",
        "\n",
        "c = tf.exp(b)\n",
        "v7 = sess.run(c)\n",
        "\n",
        "c = tf.log(b)\n",
        "v8 = sess.run(c)\n",
        "\n",
        "c = tf.sin(b)\n",
        "v9 = sess.run(c)\n",
        "\n",
        "c = tf.cos(b)\n",
        "v10 = sess.run(c)\n",
        "\n",
        "print(v1, v2, v3, v4, v5, v6, v7, v8, v9, v10)\n",
        "\n",
        "\n",
        "\n",
        "\n",
        "\n"
      ],
      "execution_count": 46,
      "outputs": [
        {
          "output_type": "stream",
          "text": [
            "-17.5 1.0 306.25 306.25 17.5 5.0 148.41316 1.609438 -0.9589243 0.2836622\n"
          ],
          "name": "stdout"
        }
      ]
    },
    {
      "metadata": {
        "id": "VUyVb-B8HMXY",
        "colab_type": "text"
      },
      "cell_type": "markdown",
      "source": [
        "### [실십5] 아키텍처\n",
        "\n",
        "- 텐서플로우는 기본적으로 대규모 분산 학습 및 추론을 위한 라이브러리다. 기계학습 모델을 제공한다.\n",
        "\n",
        "- 텐서플로우는 크로스 플랫폼 라이브러리다. (os 의존성 없다는 의미!!)\n",
        "\n",
        "- 다양한 프로그래밍 언어를 이용해 작성이 가능하다.\n",
        "\n",
        "![image](https://user-images.githubusercontent.com/11758940/55097018-59cc7e80-50fe-11e9-9512-6d6de8992514.png)\n",
        "\n",
        "\n",
        "- 클라이언트\n",
        "  - 컴퓨터 연산 과정을 데이터 플로우 그래프 형태로 표현\n",
        "\n",
        "- 분산된마스터\n",
        "  - \n",
        "\n",
        "\n",
        "- 작업자서비스\n",
        "  - 특정 하드웨어에게 적절한 커널 기능을 이용하는 그래프 작업의 실행을 관리\n",
        "  - 다른 작업자 서비스와 실행 결과를 주고 받는다\n",
        "\n",
        "- 커널 기능\n",
        "  - 실질적인 작업 가능 \n",
        "  - 작업구성도를 그래프로 그릴수 있음\n",
        "\n"
      ]
    },
    {
      "metadata": {
        "id": "61uScznMJXew",
        "colab_type": "text"
      },
      "cell_type": "markdown",
      "source": [
        "\n",
        "### [실습6] 세션\n",
        "- 텐서플로우는 방향그래프를 기반으로 설계되어 있는 기계학습 라이브러리이다. 따라서 일반적인 프로그래밍과는 차이가 있다."
      ]
    },
    {
      "metadata": {
        "id": "IR34QjeuIOpF",
        "colab_type": "code",
        "colab": {
          "base_uri": "https://localhost:8080/",
          "height": 34
        },
        "outputId": "ce7537b3-39e3-476a-fafc-93203475b1a1"
      },
      "cell_type": "code",
      "source": [
        "import tensorflow as tf\n",
        "\n",
        "a = tf.constant(17.5)\n",
        "b = tf.constant(5.0)\n",
        "c = tf.add(a,b)\n",
        "\n",
        "# 값이 아니라, 텐서를 출력했다.\n",
        "print(c)\n",
        "\n",
        "# 즉, 위와 같은 명령어는 실제로 연산을 수행한 것이 아니라\n",
        "# 그래프를 정의한 것이다.\n",
        "# 연산을 수행하기 위해서는, \n",
        "# a와 b에 데이터를 넣어서 흐름(flow)가 이루어지도록 만들어야 합니다. \n"
      ],
      "execution_count": 47,
      "outputs": [
        {
          "output_type": "stream",
          "text": [
            "Tensor(\"Add_28:0\", shape=(), dtype=float32)\n"
          ],
          "name": "stdout"
        }
      ]
    },
    {
      "metadata": {
        "id": "gyG11sOWJ_Ly",
        "colab_type": "code",
        "colab": {
          "base_uri": "https://localhost:8080/",
          "height": 34
        },
        "outputId": "17c8e6f9-87a9-45d5-db3b-d187fb99ea76"
      },
      "cell_type": "code",
      "source": [
        "# 이렇게! 흐름을 실행해야 한다.\n",
        "\n",
        "sess = tf.Session()\n",
        "sess.run(c)\n",
        "\n",
        "# 즉, 세션은 실제로 값을 대입한 그래프가 동작하도록 하는 역할을 수행하는 것이다.!!!!\n"
      ],
      "execution_count": 48,
      "outputs": [
        {
          "output_type": "execute_result",
          "data": {
            "text/plain": [
              "22.5"
            ]
          },
          "metadata": {
            "tags": []
          },
          "execution_count": 48
        }
      ]
    },
    {
      "metadata": {
        "id": "WwW7IMc3tCuH",
        "colab_type": "text"
      },
      "cell_type": "markdown",
      "source": [
        "### [실습7-1] Linear Regression\n",
        "\n",
        "- 수업시간에 사용했던 예제를 텐서플로우로 실행해 봅시다.\n",
        "\n",
        "- W와 b 값만 출력해보겠습니다."
      ]
    },
    {
      "metadata": {
        "id": "drQXqr8sE9df",
        "colab_type": "code",
        "outputId": "8d52985a-6a8d-4dcb-aac5-648de0dfd700",
        "colab": {
          "base_uri": "https://localhost:8080/",
          "height": 34
        }
      },
      "cell_type": "code",
      "source": [
        "\n",
        "\n",
        "import tensorflow as tf\n",
        "\n",
        "# 랜덤 시드 설정\n",
        "tf.set_random_seed(777) \n",
        "\n",
        "# X and Y 설정\n",
        "x_train = [1, 2, 3]\n",
        "y_train = [1, 2, 3]\n",
        "\n",
        "\n",
        "# 텐서 크기 1짜리 랜덤 값을 텐서변수 W에 대입하고, 이름을 weight라고 지정\n",
        "W = tf.Variable(tf.random_normal([1]), name=\"weight\")\n",
        "\n",
        "# 텐서 크기 1짜리 랜덤 값을 텐서변수 b에 대입하고, 이름을 bias라고 지정\n",
        "b = tf.Variable(tf.random_normal([1]), name=\"bias\")\n",
        "\n",
        "# 텐서 변수 초기화\n",
        "init_op = tf.global_variables_initializer()\n",
        "\n",
        "# 세션 생성\n",
        "sess = tf.Session()\n",
        "\n",
        "# 세션 실행하며, 초기화 변수 입력으로 넣기\n",
        "sess.run(init_op)\n",
        "\n",
        "# 세션 실행하여 W, b 값 입력 후, 출력 값 요청하기\n",
        "W_final, b_final = sess.run([W,b])\n",
        "\n",
        "print(W_final, b_final)\n",
        "\n",
        "# 아마, 값이 많이 흔들리고 비용함수 반복 회사가 적은거 같습니다. ㅎ\n",
        "# 더욱 관여해 봅시다."
      ],
      "execution_count": 49,
      "outputs": [
        {
          "output_type": "stream",
          "text": [
            "[0.10883902] [1.6879869]\n"
          ],
          "name": "stdout"
        }
      ]
    },
    {
      "metadata": {
        "id": "W0E-1MWDzG-B",
        "colab_type": "text"
      },
      "cell_type": "markdown",
      "source": [
        "### [실습7-2] Linear Regression\n",
        "\n",
        "- 비용함수 최소화 과정의 cost 값과 W값 b 값의 변화량을 출력해봅시다."
      ]
    },
    {
      "metadata": {
        "id": "R--CakRqlXZS",
        "colab_type": "code",
        "colab": {
          "base_uri": "https://localhost:8080/",
          "height": 204
        },
        "outputId": "265fe4ba-6bb9-4d5e-bb2f-4dbf5c25609d"
      },
      "cell_type": "code",
      "source": [
        "\n",
        "import tensorflow as tf\n",
        "\n",
        "# 랜덤 시드 설정\n",
        "tf.set_random_seed(777)  \n",
        "\n",
        "# X and Y 설정\n",
        "x_train = [1, 2, 3]\n",
        "y_train = [1, 2, 3]\n",
        "\n",
        "# 텐서 크기 1짜리 랜덤 값을 텐서변수 W에 대입하고, 이름을 weight라고 지정\n",
        "W = tf.Variable(tf.random_normal([1]), name=\"weight\")\n",
        "\n",
        "# 텐서 크기 1짜리 랜덤 값을 텐서변수 b에 대입하고, 이름을 bias라고 지정\n",
        "b = tf.Variable(tf.random_normal([1]), name=\"bias\")\n",
        "\n",
        "\n",
        "# 가설 설정 그래프 생성\n",
        "hypothesis = x_train * W + b\n",
        "\n",
        "# 로스 함수/비용 함수 그래프 생성\n",
        "# 선형 회귀 함수 방정식에 맞게 비용 함수 아래와 같이 작성\n",
        "cost = tf.reduce_mean(tf.square(hypothesis - y_train))\n",
        "\n",
        "# 최소값을 찾기 위해 아래와 같이 \"경사하강최적화방법\"을 설정\n",
        "train = tf.train.GradientDescentOptimizer(learning_rate=0.01).minimize(cost)\n",
        "\n",
        "# 세션열고, 실행하여 비용함수의 최소값을 구해봄\n",
        "sess = tf.Session()\n",
        "sess.run(tf.global_variables_initializer())\n",
        "\n",
        "\n",
        "# range 안의 10001과 step%1000의 1000은 변경해서 결과를 출력해보셔도 좋습니다.\n",
        "for step in range(10001):\n",
        "  # _, 의 의미는 리턴값을 받겠다는 말\n",
        "  _, cost_val, W_val, b_val = sess.run([train, cost, W, b])\n",
        "\n",
        "  # 1000번 돌때마다 결과 값을 출력\n",
        "  if step % 1000 == 0:\n",
        "      print(step, cost_val, W_val, b_val)\n",
        "\n",
        "\n",
        "# 주석: \n",
        "# 10000번 정도의 반복회수를 돌려보니, \n",
        "# 우리가 원했던 W = 1, b = 0 에 가까운 결과를 얻고 있나요? \n"
      ],
      "execution_count": 50,
      "outputs": [
        {
          "output_type": "stream",
          "text": [
            "0 17.836884 [-0.18748619] [-1.2540929]\n",
            "1000 0.00043984418 [1.0242997] [-0.05523885]\n",
            "2000 3.5707417e-06 [1.0021895] [-0.00497717]\n",
            "3000 2.9295208e-08 [1.0001987] [-0.00045087]\n",
            "4000 2.433893e-10 [1.0000182] [-4.105903e-05]\n",
            "5000 1.6342483e-11 [1.000005] [-1.0156763e-05]\n",
            "6000 1.22781785e-11 [1.0000043] [-8.61255e-06]\n",
            "7000 1.22781785e-11 [1.0000043] [-8.61255e-06]\n",
            "8000 1.22781785e-11 [1.0000043] [-8.61255e-06]\n",
            "9000 1.22781785e-11 [1.0000043] [-8.61255e-06]\n",
            "10000 1.22781785e-11 [1.0000043] [-8.61255e-06]\n"
          ],
          "name": "stdout"
        }
      ]
    },
    {
      "metadata": {
        "id": "cQPoRe7rzibc",
        "colab_type": "text"
      },
      "cell_type": "markdown",
      "source": [
        "### [실습7-3] Linear Regression\n",
        "\n",
        "- 비용함수 최소화 과정의 cost 값과 W값 b 값의 변화량을 \"그림으로\" 출력해봅시다."
      ]
    },
    {
      "metadata": {
        "id": "z3jQtKjGg5Gn",
        "colab_type": "code",
        "outputId": "7fb0a3c2-cf16-4ac5-ff2b-aef237b5b779",
        "colab": {
          "base_uri": "https://localhost:8080/",
          "height": 376
        }
      },
      "cell_type": "code",
      "source": [
        "# 텐서플로우 사용을 위한 라이브러리 추가\n",
        "import tensorflow as tf\n",
        "\n",
        "# 그림을 그리기 위한 라이브러리 추가\n",
        "import matplotlib.pyplot as plt\n",
        "\n",
        "X = [1, 2, 3]\n",
        "Y = [1, 2, 3]\n",
        "\n",
        "# \n",
        "W = tf.placeholder(tf.float32)\n",
        "\n",
        "# Our hypothesis for linear model X * W\n",
        "hypothesis = X * W\n",
        "\n",
        "# cost/loss function\n",
        "cost = tf.reduce_mean(tf.square(hypothesis - Y))\n",
        "\n",
        "# Variables for plotting cost function\n",
        "W_history = []\n",
        "cost_history = []\n",
        "sess = tf.Session()\n",
        "\n",
        "# 그림그리기 위한 W와 cost 변화 값 저장\n",
        "for i in range(-30, 50):\n",
        "    curr_W = i * 0.1\n",
        "    curr_cost = sess.run(cost, feed_dict={W: curr_W})\n",
        "\n",
        "    # append 는 링크드리스트에서 매번 데이터를 insert 하는 것과 동일합니다.\n",
        "    W_history.append(curr_W)\n",
        "    cost_history.append(curr_cost)\n",
        "\n",
        "\n",
        "# Show the cost function\n",
        "plt.title('20190328_Sejong-RCV') \n",
        "plt.ylabel('cost')\n",
        "plt.xlabel('W')\n",
        "plt.plot(W_history, cost_history)\n",
        "plt.show()"
      ],
      "execution_count": 51,
      "outputs": [
        {
          "output_type": "display_data",
          "data": {
            "image/png": "[encoded data removed]",
            "text/plain": [
              "<Figure size 576x396 with 1 Axes>"
            ]
          },
          "metadata": {
            "tags": []
          }
        }
      ]
    },
    {
      "metadata": {
        "id": "2yase-k91XgD",
        "colab_type": "text"
      },
      "cell_type": "markdown",
      "source": [
        "### [실습8-1] Multi-variable Linear Regression\n",
        "\n",
        "- 입력데이터 3개에 대한 예제"
      ]
    },
    {
      "metadata": {
        "id": "1ad_0kYUiFMx",
        "colab_type": "code",
        "outputId": "6c3b8d23-14b4-44cd-dba2-eeedfbdf5765",
        "colab": {
          "base_uri": "https://localhost:8080/",
          "height": 323
        }
      },
      "cell_type": "code",
      "source": [
        "\n",
        "import tensorflow as tf\n",
        "tf.set_random_seed(777)  \n",
        "\n",
        "# 인스턴스가 여러개인 3명의 데이터를 입력한다. \n",
        "x1_data = [73., 93., 89., 96., 73.]\n",
        "x2_data = [80., 88., 91., 98., 66.]\n",
        "x3_data = [75., 93., 90., 100., 70.]\n",
        "\n",
        "# 각각에 대한 결과 값 데이터를 입력한다.\n",
        "y_data = [152., 185., 180., 196., 142.]\n",
        "\n",
        "\n",
        "# 모든 텐서를 플레이스홀더로 지정\n",
        "x1 = tf.placeholder(tf.float32)\n",
        "x2 = tf.placeholder(tf.float32)\n",
        "x3 = tf.placeholder(tf.float32)\n",
        "Y = tf.placeholder(tf.float32)\n",
        "\n",
        "# 그리고 가설 생성을 위한 텐서변수 설정\n",
        "w1 = tf.Variable(tf.random_normal([1]), name='weight1')\n",
        "w2 = tf.Variable(tf.random_normal([1]), name='weight2')\n",
        "w3 = tf.Variable(tf.random_normal([1]), name='weight3')\n",
        "b = tf.Variable(tf.random_normal([1]), name='bias')\n",
        "\n",
        "# 가설 \n",
        "hypothesis = x1 * w1 + x2 * w2 + x3 * w3 + b\n",
        "\n",
        "# 비용함수\n",
        "cost = tf.reduce_mean(tf.square(hypothesis - Y))\n",
        "\n",
        "# 최적화방법을 풀기위해 경사하강방법 지정 동시에 learnign_rate 설정\n",
        "optimizer = tf.train.GradientDescentOptimizer(learning_rate=1e-5)\n",
        "\n",
        "# 최적화 함수에 비용함수 최소값을 구하도록 설정\n",
        "train = optimizer.minimize(cost)\n",
        "\n",
        "# 세션 열고, 세션 변수 초기화\n",
        "sess = tf.Session()\n",
        "sess.run(tf.global_variables_initializer())\n",
        "\n",
        "\n",
        "# 학습 시작, 중간에 과정결과 출력\n",
        "# 출력위헤 10001과 2000은 직접 변경 가능\n",
        "for step in range(10001):\n",
        "    cost_val, hy_val, _ = sess.run([cost, hypothesis, train],\n",
        "                                   feed_dict={x1: x1_data, x2: x2_data, x3: x3_data, Y: y_data})\n",
        "    if step % 2000 == 0:\n",
        "        print(step, \"Cost: \", cost_val, \"\\nPrediction:\\n\", hy_val)\n",
        "\n"
      ],
      "execution_count": 32,
      "outputs": [
        {
          "output_type": "stream",
          "text": [
            "0 Cost:  31820.885 \n",
            "Prediction:\n",
            " [-19.769941    3.4082124 -11.024435   -8.48731     6.6539555]\n",
            "2000 Cost:  25.65971 \n",
            "Prediction:\n",
            " [143.45578 189.92831 177.79428 196.43637 147.09421]\n",
            "4000 Cost:  9.581205 \n",
            "Prediction:\n",
            " [146.45729 187.88182 178.72815 197.0016  144.50174]\n",
            "6000 Cost:  4.0678144 \n",
            "Prediction:\n",
            " [148.2218  186.68282 179.28235 197.29718 143.01721]\n",
            "8000 Cost:  2.1349876 \n",
            "Prediction:\n",
            " [149.266   185.97711 179.61522 197.43752 142.17596]\n",
            "10000 Cost:  1.4195963 \n",
            "Prediction:\n",
            " [149.89043 185.55875 179.81886 197.48906 141.70781]\n"
          ],
          "name": "stdout"
        }
      ]
    },
    {
      "metadata": {
        "id": "Dat8Drs23WWN",
        "colab_type": "text"
      },
      "cell_type": "markdown",
      "source": [
        "### [실습8-2] Multi-variable Linear Regression\n",
        "\n",
        "- 매번 모든 데이터에 대한 변수를 설정하던 부분을 Matrix를 이용한 Multi-variable 다루기\n",
        "- 행렬은 좋은 것!!"
      ]
    },
    {
      "metadata": {
        "id": "iRJZuJggiQ-F",
        "colab_type": "code",
        "outputId": "ca54cb66-8ad7-4340-f417-8e165969aaac",
        "colab": {
          "base_uri": "https://localhost:8080/",
          "height": 731
        }
      },
      "cell_type": "code",
      "source": [
        "\n",
        "import tensorflow as tf\n",
        "tf.set_random_seed(777)  \n",
        "\n",
        "\n",
        "# 입력 출력 데이터 행렬로 정의\n",
        "x_data = [[73., 80., 75.],\n",
        "          [93., 88., 93.],\n",
        "          [89., 91., 90.],\n",
        "          [96., 98., 100.],\n",
        "          [73., 66., 70.]]\n",
        "y_data = [[152.],\n",
        "          [185.],\n",
        "          [180.],\n",
        "          [196.],\n",
        "          [142.]]\n",
        "\n",
        "\n",
        "# X와 Y를 플레이스홀더에 담는다.\n",
        "# Matrix 형태로 담을 것이므로, shape을 지정한다.\n",
        "# None은 입력해주는데로 설정하겠다는 뜻으로, \n",
        "# C언어의 배열초기화 시 사용하던 아래와 동일한 표현\n",
        "# int array[] = {1,2,3,4,5,6}; \n",
        "\n",
        "X = tf.placeholder(tf.float32, shape=[None, 3])\n",
        "Y = tf.placeholder(tf.float32, shape=[None, 1])\n",
        "\n",
        "# W,b는 텐서 변수 지정\n",
        "# 달라진 점은 입력데이터 행렬설정에 따른 W 값의 shape 변화\n",
        "W = tf.Variable(tf.random_normal([3, 1]), name='weight')\n",
        "b = tf.Variable(tf.random_normal([1]), name='bias')\n",
        "\n",
        "\n",
        "# 가설 그래프 정의\n",
        "# 역시 달라진 점은, 행렬의 곱으로 정의\n",
        "hypothesis = tf.matmul(X, W) + b\n",
        "\n",
        "# 비용함수 그래스 정의\n",
        "cost = tf.reduce_mean(tf.square(hypothesis - Y))\n",
        "\n",
        "# 최적화방법을 풀기위해 경사하강방법 지정 동시에 learnign_rate 설정\n",
        "optimizer = tf.train.GradientDescentOptimizer(learning_rate=1e-5)\n",
        "\n",
        "# 최적화 함수에 비용함수 최소값을 구하도록 설정\n",
        "train = optimizer.minimize(cost)\n",
        "\n",
        "\n",
        "# 세션 열고, 세션 변수 초기화\n",
        "sess = tf.Session()\n",
        "sess.run(tf.global_variables_initializer())\n",
        "\n",
        "\n",
        "# 학습 시작, 중간에 과정결과 출력\n",
        "# 출력위헤 10001과 2000은 직접 변경 가능\n",
        "for step in range(10001):\n",
        "    cost_val, hy_val, _ = sess.run(\n",
        "        [cost, hypothesis, train], feed_dict={X: x_data, Y: y_data})\n",
        "    if step % 2000 == 0:\n",
        "        print(step, \"Cost: \", cost_val, \"\\nPrediction:\\n\", hy_val)\n",
        "\n"
      ],
      "execution_count": 37,
      "outputs": [
        {
          "output_type": "stream",
          "text": [
            "0 Cost:  1716.2703 \n",
            "Prediction:\n",
            " [[185.41847]\n",
            " [230.6065 ]\n",
            " [223.0245 ]\n",
            " [243.81056]\n",
            " [177.32204]]\n",
            "2000 Cost:  1.35478 \n",
            "Prediction:\n",
            " [[149.72653]\n",
            " [185.76413]\n",
            " [179.85558]\n",
            " [196.63243]\n",
            " [142.77493]]\n",
            "4000 Cost:  0.69910693 \n",
            "Prediction:\n",
            " [[150.33551]\n",
            " [185.35152]\n",
            " [180.04831]\n",
            " [196.7239 ]\n",
            " [142.27399]]\n",
            "6000 Cost:  0.46326938 \n",
            "Prediction:\n",
            " [[150.69786]\n",
            " [185.10774]\n",
            " [180.16522]\n",
            " [196.76277]\n",
            " [141.99272]]\n",
            "8000 Cost:  0.3707275 \n",
            "Prediction:\n",
            " [[150.91638]\n",
            " [184.96234]\n",
            " [180.23776]\n",
            " [196.77165]\n",
            " [141.83871]]\n",
            "10000 Cost:  0.3278345 \n",
            "Prediction:\n",
            " [[151.05092]\n",
            " [184.87431]\n",
            " [180.2843 ]\n",
            " [196.7638 ]\n",
            " [141.75832]]\n"
          ],
          "name": "stdout"
        }
      ]
    },
    {
      "metadata": {
        "id": "z-6CkXiUK3M_",
        "colab_type": "text"
      },
      "cell_type": "markdown",
      "source": [
        "### [과제] 배추 가격 예측 AI 로봇!!!  만들기\n",
        "\n",
        "- 기상청 전국 기온 및 강수량 데이터와 전국 월별 배추 가격 빅 데이터를 분석하여 시계열 수치 예측을 수행한다.\n",
        "\n",
        "- multi-variable linear regression 문제에 해당됩니다.\n",
        "\n",
        "- 문제는 금일 오후에 공개됩니다."
      ]
    }
  ]
}